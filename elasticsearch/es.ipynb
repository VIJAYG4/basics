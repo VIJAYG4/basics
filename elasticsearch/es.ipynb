{
 "cells": [
  {
   "cell_type": "code",
   "execution_count": 6,
   "metadata": {},
   "outputs": [
    {
     "data": {
      "text/plain": [
       "<Elasticsearch([{'host': 'localhost', 'port': 9200}])>"
      ]
     },
     "execution_count": 6,
     "metadata": {},
     "output_type": "execute_result"
    }
   ],
   "source": [
    "# Import Elasticsearch package \n",
    "from elasticsearch import Elasticsearch \n",
    "# Connect to the elastic cluster, set timeout parameter to avoid ConnectionTimeoutError\n",
    "es=Elasticsearch([{'host':'localhost','port':9200}],timeout=30)\n",
    "es"
   ]
  },
  {
   "cell_type": "markdown",
   "metadata": {},
   "source": [
    "Act of inserting document in ElasticSearch is called indexing"
   ]
  },
  {
   "cell_type": "markdown",
   "metadata": {},
   "source": [
    "# Insert documents"
   ]
  },
  {
   "cell_type": "code",
   "execution_count": 18,
   "metadata": {},
   "outputs": [
    {
     "name": "stdout",
     "output_type": "stream",
     "text": [
      "{'first name': 'vijay', 'last name': 'gandhi', 'age': 24, 'interests': ['coding', 'exercise', 'reading']}\n"
     ]
    }
   ],
   "source": [
    "member1 = {\n",
    "    'first name': 'vijay',\n",
    "    'last name':'gandhi',\n",
    "    'age':24,\n",
    "    'interests':['coding', 'exercise', 'reading']\n",
    "}\n",
    "print(member1)"
   ]
  },
  {
   "cell_type": "code",
   "execution_count": 19,
   "metadata": {},
   "outputs": [],
   "source": [
    "#Now let's store this document in Elasticsearch \n",
    "res = es.index(index='family',doc_type='members',id=1,body=member1)"
   ]
  },
  {
   "cell_type": "code",
   "execution_count": 9,
   "metadata": {},
   "outputs": [],
   "source": [
    "#insert some more documents\n",
    "member2 = {\n",
    "    'first name':'aravind',\n",
    "    'last name':'gandhi',\n",
    "    'age':16,\n",
    "    'interests':['cricket','video games']\n",
    "}\n",
    "member3 = {\n",
    "    'first name':'jasmitha',\n",
    "    'last name':'gandhi',\n",
    "    'age':4,\n",
    "    'interests':['cartoon shows', 'coloring']\n",
    "}"
   ]
  },
  {
   "cell_type": "code",
   "execution_count": null,
   "metadata": {},
   "outputs": [],
   "source": [
    "res = es.index(index='family',doc_type='members',id=2,body=member2)\n",
    "print(res['created'])\n",
    "res = es.index(index='family',doc_type='members',id=3,body=member3)\n",
    "print(res['created'])"
   ]
  },
  {
   "cell_type": "markdown",
   "metadata": {},
   "source": [
    "# Retrieving Documents"
   ]
  },
  {
   "cell_type": "code",
   "execution_count": 13,
   "metadata": {},
   "outputs": [
    {
     "name": "stdout",
     "output_type": "stream",
     "text": [
      "{'_index': 'family', '_type': 'members', '_id': '1', '_version': 2, 'found': True, '_source': {'first name': 'vijay', 'last name': 'gandhi', 'age': 24, 'interests': ['coding', 'exercise', 'reading']}}\n"
     ]
    }
   ],
   "source": [
    "res = es.get(index='family',doc_type='members',id=1)\n",
    "print(res)"
   ]
  },
  {
   "cell_type": "code",
   "execution_count": 15,
   "metadata": {},
   "outputs": [
    {
     "name": "stdout",
     "output_type": "stream",
     "text": [
      "{'first name': 'vijay', 'last name': 'gandhi', 'age': 24, 'interests': ['coding', 'exercise', 'reading']}\n"
     ]
    }
   ],
   "source": [
    "#get actual document using _source field\n",
    "print(res['_source'])"
   ]
  },
  {
   "cell_type": "markdown",
   "metadata": {},
   "source": [
    "# Deleting Document"
   ]
  },
  {
   "cell_type": "code",
   "execution_count": 20,
   "metadata": {},
   "outputs": [
    {
     "name": "stdout",
     "output_type": "stream",
     "text": [
      "deleted\n"
     ]
    }
   ],
   "source": [
    "res = es.delete(index='family',doc_type='members',id=1)\n",
    "print(res['result'])"
   ]
  },
  {
   "cell_type": "markdown",
   "metadata": {},
   "source": [
    "## Validate it in ES"
   ]
  },
  {
   "cell_type": "code",
   "execution_count": 22,
   "metadata": {},
   "outputs": [
    {
     "name": "stdout",
     "output_type": "stream",
     "text": [
      "Got 2 hits:\n"
     ]
    }
   ],
   "source": [
    "res = es.search(index='family',body={'query': {'match_all':{}}})\n",
    "print('Got %d hits:' %res['hits']['total'])"
   ]
  },
  {
   "cell_type": "markdown",
   "metadata": {},
   "source": [
    "Only 2 documents are present now"
   ]
  },
  {
   "cell_type": "markdown",
   "metadata": {},
   "source": [
    "# Search Lite"
   ]
  },
  {
   "cell_type": "markdown",
   "metadata": {},
   "source": [
    "A GET is fairly simple — you get back the document that you ask for. Let’s try something a little more advanced, like a simple search!"
   ]
  },
  {
   "cell_type": "code",
   "execution_count": 24,
   "metadata": {},
   "outputs": [
    {
     "name": "stdout",
     "output_type": "stream",
     "text": [
      "[{'_index': 'family', '_type': 'members', '_id': '2', '_score': 1.0, '_source': {'first name': 'aravind', 'last name': 'gandhi', 'age': 16, 'interests': ['cricket', 'video games']}}, {'_index': 'family', '_type': 'members', '_id': '3', '_score': 1.0, '_source': {'first name': 'jasmitha', 'last name': 'gandhi', 'age': 4, 'interests': ['cartoon shows', 'coloring']}}]\n"
     ]
    }
   ],
   "source": [
    "res = es.search(index='family',body={'query':{}})\n",
    "print(res['hits']['hits'])"
   ]
  },
  {
   "cell_type": "markdown",
   "metadata": {},
   "source": [
    "Now let’s search for the user name who has jasmitha in his first name."
   ]
  },
  {
   "cell_type": "markdown",
   "metadata": {},
   "source": [
    "## match operator"
   ]
  },
  {
   "cell_type": "code",
   "execution_count": 26,
   "metadata": {},
   "outputs": [
    {
     "name": "stdout",
     "output_type": "stream",
     "text": [
      "[{'_index': 'family', '_type': 'members', '_id': '3', '_score': 0.2876821, '_source': {'first name': 'jasmitha', 'last name': 'gandhi', 'age': 4, 'interests': ['cartoon shows', 'coloring']}}]\n"
     ]
    }
   ],
   "source": [
    "res = es.search(index='family',body={'query':{'match': {'first name': 'jasmitha'}}})\n",
    "print(res['hits']['hits'])"
   ]
  },
  {
   "cell_type": "markdown",
   "metadata": {},
   "source": [
    "## bool operator"
   ]
  },
  {
   "cell_type": "code",
   "execution_count": null,
   "metadata": {},
   "outputs": [],
   "source": []
  }
 ],
 "metadata": {
  "kernelspec": {
   "display_name": "Python 3",
   "language": "python",
   "name": "python3"
  },
  "language_info": {
   "codemirror_mode": {
    "name": "ipython",
    "version": 3
   },
   "file_extension": ".py",
   "mimetype": "text/x-python",
   "name": "python",
   "nbconvert_exporter": "python",
   "pygments_lexer": "ipython3",
   "version": "3.7.4"
  }
 },
 "nbformat": 4,
 "nbformat_minor": 2
}
